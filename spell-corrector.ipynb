{
 "cells": [
  {
   "cell_type": "code",
   "execution_count": 1,
   "metadata": {
    "collapsed": true
   },
   "outputs": [],
   "source": [
    "import re\n",
    "from collections import Counter"
   ]
  },
  {
   "cell_type": "code",
   "execution_count": 2,
   "metadata": {
    "collapsed": true
   },
   "outputs": [],
   "source": [
    "# function to tokenise words\n",
    "def words(document):\n",
    "    \"Convert text to lower case and tokenise the document\"\n",
    "    return re.findall(r'\\w+', document.lower())"
   ]
  },
  {
   "cell_type": "code",
   "execution_count": 3,
   "metadata": {
    "collapsed": true
   },
   "outputs": [],
   "source": [
    "# create a frequency table of all the words of the document\n",
    "all_words = Counter(words(open('big.txt').read()))"
   ]
  },
  {
   "cell_type": "code",
   "execution_count": 4,
   "metadata": {},
   "outputs": [
    {
     "output_type": "execute_result",
     "data": {
      "text/plain": [
       "135"
      ]
     },
     "metadata": {},
     "execution_count": 4
    }
   ],
   "source": [
    "# check frequency of a random word, say, 'chair'\n",
    "all_words['chair']"
   ]
  },
  {
   "cell_type": "code",
   "execution_count": 5,
   "metadata": {},
   "outputs": [
    {
     "output_type": "execute_result",
     "data": {
      "text/plain": [
       "[('the', 79809),\n",
       " ('of', 40024),\n",
       " ('and', 38312),\n",
       " ('to', 28765),\n",
       " ('in', 22023),\n",
       " ('a', 21124),\n",
       " ('that', 12512),\n",
       " ('he', 12401),\n",
       " ('was', 11410),\n",
       " ('it', 10681)]"
      ]
     },
     "metadata": {},
     "execution_count": 5
    }
   ],
   "source": [
    "# look at top 10 frequent words\n",
    "all_words.most_common(10)"
   ]
  },
  {
   "cell_type": "code",
   "execution_count": 6,
   "metadata": {
    "collapsed": true
   },
   "outputs": [],
   "source": [
    "def edits_one(word):\n",
    "    \"Create all edits that are one edit away from `word`.\"\n",
    "    alphabets    = 'abcdefghijklmnopqrstuvwxyz'\n",
    "    splits     = [(word[:i], word[i:])                   for i in range(len(word) + 1)]\n",
    "    deletes    = [left + right[1:]                       for left, right in splits if right]\n",
    "    inserts    = [left + c + right                       for left, right in splits for c in alphabets]\n",
    "    replaces   = [left + c + right[1:]                   for left, right in splits if right for c in alphabets]\n",
    "    transposes = [left + right[1] + right[0] + right[2:] for left, right in splits if len(right)>1]\n",
    "    return set(deletes + inserts + replaces + transposes)"
   ]
  },
  {
   "cell_type": "code",
   "execution_count": 7,
   "metadata": {
    "collapsed": true
   },
   "outputs": [],
   "source": [
    "def edits_two(word):\n",
    "    \"Create all edits that are two edits away from `word`.\"\n",
    "    return (e2 for e1 in edits_one(word) for e2 in edits_one(e1))"
   ]
  },
  {
   "cell_type": "code",
   "execution_count": 8,
   "metadata": {
    "collapsed": true
   },
   "outputs": [],
   "source": [
    "def known(words):\n",
    "    \"The subset of `words` that appear in the `all_words`.\"\n",
    "    return set(word for word in words if word in all_words)"
   ]
  },
  {
   "cell_type": "code",
   "execution_count": 9,
   "metadata": {
    "collapsed": true
   },
   "outputs": [],
   "source": [
    "def possible_corrections(word):\n",
    "    \"Generate possible spelling corrections for word.\"\n",
    "    return (known([word]) or known(edits_one(word)) or known(edits_two(word)) or [word])"
   ]
  },
  {
   "cell_type": "code",
   "execution_count": 10,
   "metadata": {
    "collapsed": true
   },
   "outputs": [],
   "source": [
    "def prob(word, N=sum(all_words.values())): \n",
    "    \"Probability of `word`: Number of appearances of 'word' / total number of tokens\"\n",
    "    return all_words[word] / N"
   ]
  },
  {
   "cell_type": "code",
   "execution_count": 11,
   "metadata": {},
   "outputs": [
    {
     "output_type": "stream",
     "name": "stdout",
     "text": [
      "336\n{'munney', 'mongey', 'moanney', 'moxney', 'monnery', 'monuey', 'monneu', 'manney', 'mxnney', 'molney', 'mojney', 'vonney', 'monnsey', 'monaney', 'modney', 'nonney', 'mondey', 'monnqey', 'mponney', 'eonney', 'xmonney', 'monxey', 'mokney', 'monniey', 'mnnney', 'monnegy', 'monnhy', 'monneyf', 'mconney', 'lonney', 'monbney', 'montney', 'monvney', 'cmonney', 'monned', 'monrney', 'mooney', 'monneye', 'monrey', 'smonney', 'monnewy', 'monlney', 'monncy', 'tmonney', 'mobnney', 'mowney', 'monqney', 'moinney', 'monnejy', 'monnaey', 'monny', 'qmonney', 'monneyq', 'monnmy', 'movnney', 'monneey', 'mvonney', 'monnety', 'monnny', 'monwney', 'monnye', 'monnen', 'mognney', 'monneyj', 'mocnney', 'monzey', 'monngy', 'monsey', 'mmonney', 'dmonney', 'monkney', 'mqnney', 'monneny', 'ionney', 'monnee', 'monnemy', 'qonney', 'monnef', 'omonney', 'mounney', 'monvey', 'monnxy', 'money', 'monnwy', 'monnpey', 'mcnney', 'monnevy', 'moneney', 'vmonney', 'monqey', 'mynney', 'hmonney', 'mgonney', 'mouney', 'moenney', 'monsney', 'moeney', 'jmonney', 'monnoy', 'monnek', 'monmey', 'monnfey', 'mtonney', 'monneyz', 'monneyp', 'monnely', 'monneyn', 'monnei', 'zonney', 'mpnney', 'mionney', 'monner', 'monneyb', 'mondney', 'monnea', 'mgnney', 'moneny', 'monnzy', 'monnly', 'mwnney', 'monneq', 'monnrey', 'mlonney', 'onney', 'monnew', 'mxonney', 'myonney', 'imonney', 'monnfy', 'motnney', 'mbonney', 'monmney', 'mknney', 'monneya', 'monnesy', 'monneuy', 'meonney', 'modnney', 'moznney', 'monnay', 'honney', 'monnec', 'mtnney', 'msnney', 'nmonney', 'monneoy', 'pmonney', 'monneyo', 'monnzey', 'mbnney', 'monne', 'monneyh', 'mnoney', 'mqonney', 'monnezy', 'mongney', 'mornney', 'mfonney', 'monjey', 'monnyey', 'moynney', 'gmonney', 'monpey', 'amonney', 'mnonney', 'mwonney', 'monnky', 'monnel', 'monneb', 'mdonney', 'monneyw', 'aonney', 'monneqy', 'mfnney', 'motney', 'monyey', 'mojnney', 'monneo', 'moniney', 'momnney', 'monnedy', 'oonney', 'monaey', 'monneyx', 'monndey', 'bmonney', 'emonney', 'tonney', 'mrnney', 'monneyi', 'jonney', 'movney', 'monnmey', 'mkonney', 'mocney', 'monneyu', 'monncey', 'mnney', 'mogney', 'mohney', 'monneh', 'monniy', 'monzney', 'monfey', 'mronney', 'monnvey', 'moiney', 'monfney', 'muonney', 'rmonney', 'mjonney', 'monnecy', 'monnry', 'bonney', 'monnkey', 'monnuey', 'monngey', 'monnxey', 'monnepy', 'wonney', 'monkey', 'monnqy', 'uonney', 'moniey', 'monnex', 'lmonney', 'mofney', 'monnes', 'monnet', 'mozney', 'mvnney', 'moxnney', 'monnley', 'montey', 'monnbey', 'mopney', 'monbey', 'monnhey', 'gonney', 'monneys', 'sonney', 'monyney', 'omnney', 'umonney', 'monhey', 'moknney', 'ponney', 'monntey', 'monnvy', 'conney', 'monneyc', 'monxney', 'monneiy', 'zmonney', 'monjney', 'yonney', 'monnney', 'mznney', 'monnyy', 'monnjy', 'moncey', 'monuney', 'monnoey', 'monnej', 'monpney', 'monneky', 'monnev', 'ronney', 'monneay', 'mononey', 'monneyv', 'moaney', 'monnuy', 'monnez', 'moyney', 'minney', 'mdnney', 'monoey', 'monnsy', 'xonney', 'konney', 'mosnney', 'mownney', 'monneyy', 'mohnney', 'monneyd', 'mhonney', 'moqney', 'monnexy', 'donney', 'mopnney', 'mofnney', 'moncney', 'mzonney', 'mhnney', 'monndy', 'moqnney', 'monneyt', 'monnep', 'monneyk', 'monneg', 'morney', 'maonney', 'monwey', 'msonney', 'mlnney', 'monnjey', 'menney', 'monnpy', 'monnem', 'monneby', 'monneyl', 'moneey', 'kmonney', 'monnefy', 'momney', 'monnehy', 'moonney', 'ymonney', 'monhney', 'monnwey', 'mosney', 'wmonney', 'monneyg', 'monneyr', 'monneym', 'fmonney', 'fonney', 'monney', 'monnby', 'mmnney', 'mjnney', 'molnney', 'mobney', 'monley', 'monnty'}\n"
     ]
    }
   ],
   "source": [
    "print(len(set(edits_one(\"monney\"))))\n",
    "print(edits_one(\"monney\"))"
   ]
  },
  {
   "cell_type": "code",
   "execution_count": 12,
   "metadata": {},
   "outputs": [
    {
     "output_type": "stream",
     "name": "stdout",
     "text": [
      "{'monkey', 'money'}\n"
     ]
    }
   ],
   "source": [
    "print(known(edits_one(\"monney\")))"
   ]
  },
  {
   "cell_type": "code",
   "execution_count": 13,
   "metadata": {},
   "outputs": [
    {
     "output_type": "stream",
     "name": "stdout",
     "text": [
      "51013\n{'monkey', 'money'}\n"
     ]
    }
   ],
   "source": [
    "# Let's look at words that are two edits away\n",
    "print(len(set(edits_two(\"monney\"))))\n",
    "print(known(edits_one(\"monney\")))"
   ]
  },
  {
   "cell_type": "code",
   "execution_count": 14,
   "metadata": {},
   "outputs": [
    {
     "output_type": "stream",
     "name": "stdout",
     "text": [
      "{'monkey', 'money'}\n"
     ]
    }
   ],
   "source": [
    "# Let's look at possible corrections of a word\n",
    "print(possible_corrections(\"monney\"))"
   ]
  },
  {
   "cell_type": "code",
   "execution_count": 15,
   "metadata": {},
   "outputs": [
    {
     "output_type": "stream",
     "name": "stdout",
     "text": [
      "0.0002922233626303688\n5.378344097491451e-06\n"
     ]
    }
   ],
   "source": [
    "# Let's look at probability of a word\n",
    "print(prob(\"money\"))\n",
    "print(prob(\"monkey\"))"
   ]
  },
  {
   "cell_type": "code",
   "execution_count": 16,
   "metadata": {},
   "outputs": [],
   "source": [
    "def spell_check(word):\n",
    "    \"Print the most probable spelling correction for `word` out of all the `possible_corrections`\"\n",
    "    correct_word = max(possible_corrections(word), key=prob)\n",
    "    if correct_word != word:\n",
    "        return \"Did you mean \" + correct_word + \"?\"\n",
    "    else:\n",
    "        return \"Correct spelling.\""
   ]
  },
  {
   "cell_type": "code",
   "execution_count": 17,
   "metadata": {},
   "outputs": [
    {
     "output_type": "stream",
     "name": "stdout",
     "text": [
      "Did you mean money?\n"
     ]
    }
   ],
   "source": [
    "# test spell check\n",
    "print(spell_check(\"monney\"))"
   ]
  }
 ],
 "metadata": {
  "kernelspec": {
   "name": "python383jvsc74a57bd0da6e2f449bd6a25c403a634f7772ee01c1cf6132173f7ff2206f401b82c95e6e",
   "display_name": "Python 3.8.3 64-bit (conda)"
  },
  "language_info": {
   "codemirror_mode": {
    "name": "ipython",
    "version": 3
   },
   "file_extension": ".py",
   "mimetype": "text/x-python",
   "name": "python",
   "nbconvert_exporter": "python",
   "pygments_lexer": "ipython3",
   "version": "3.8.3"
  }
 },
 "nbformat": 4,
 "nbformat_minor": 2
}