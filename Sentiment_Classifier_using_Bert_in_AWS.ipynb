{
 "cells": [
  {
   "cell_type": "markdown",
   "metadata": {},
   "source": [
    "# Feature transformation with Amazon SageMaker processing job and Feature Store\n",
    "\n",
    "### Introduction\n",
    "\n",
    "In this lab you will start with the raw [Women's Clothing Reviews](https://www.kaggle.com/nicapotato/womens-ecommerce-clothing-reviews) dataset and prepare it to train a BERT-based natural language processing (NLP) model. The model will be used to classify customer reviews into positive (1), neutral (0) and negative (-1) sentiment.\n",
    "\n",
    "You will convert the original review text into machine-readable features used by BERT. To perform the required feature transformation you will configure an Amazon SageMaker processing job, which will be running a custom Python script.\n",
    "\n",
    "### Table of Contents\n",
    "\n",
    "- [1. Configure the SageMaker Feature Store](#c2w1-1.)\n",
    "  - [1.1. Configure dataset](#c2w1-1.1.)\n",
    "  - [1.2. Configure the SageMaker feature store](#c2w1-1.2.)\n",
    "    - [Exercise 1](#c2w1-ex-1)\n",
    "- [2. Transform the dataset](#c2w1-2.)\n",
    "    - [Exercise 2](#c2w1-ex-2)\n",
    "    - [Exercise 3](#c2w1-ex-3)\n",
    "- [3. Query the Feature Store](#c2w1-3.)\n",
    "  - [3.1. Export training, validation, and test datasets from the Feature Store](#c2w1-3.1.)\n",
    "    - [Exercise 4](#c2w1-ex-4)\n",
    "  - [3.2. Export TSV from Feature Store](#c2w1-3.2.)\n",
    "  - [3.3. Check that the dataset in the Feature Store is balanced by sentiment](#c2w1-3.3.)\n",
    "    - [Exercise 5](#c2w1-ex-5)\n",
    "    - [Exercise 6](#c2w1-ex-6)\n",
    "    - [Exercise 7](#c2w1-ex-7)\n",
    "\n"
   ]
  },
  {
   "cell_type": "code",
   "execution_count": 2,
   "metadata": {},
   "outputs": [
    {
     "name": "stdout",
     "output_type": "stream",
     "text": [
      "/opt/conda/lib/python3.7/site-packages/secretstorage/dhcrypto.py:16: CryptographyDeprecationWarning: int_from_bytes is deprecated, use int.from_bytes instead\n",
      "  from cryptography.utils import int_from_bytes\n",
      "/opt/conda/lib/python3.7/site-packages/secretstorage/util.py:25: CryptographyDeprecationWarning: int_from_bytes is deprecated, use int.from_bytes instead\n",
      "  from cryptography.utils import int_from_bytes\n",
      "\u001b[33mWARNING: Running pip as the 'root' user can result in broken permissions and conflicting behaviour with the system package manager. It is recommended to use a virtual environment instead: https://pip.pypa.io/warnings/venv\u001b[0m\n",
      "Collecting package metadata (current_repodata.json): ...working... done\n",
      "Solving environment: ...working... done\n",
      "\n",
      "## Package Plan ##\n",
      "\n",
      "  environment location: /opt/conda\n",
      "\n",
      "  added / updated specs:\n",
      "    - pytorch==1.6.0\n",
      "\n",
      "\n",
      "The following packages will be downloaded:\n",
      "\n",
      "    package                    |            build\n",
      "    ---------------------------|-----------------\n",
      "    ca-certificates-2021.7.5   |       h06a4308_1         113 KB\n",
      "    certifi-2021.5.30          |   py37h06a4308_0         139 KB\n",
      "    cudatoolkit-10.2.89        |       hfd86e86_1       365.1 MB\n",
      "    ninja-1.10.2               |       hff7bd54_1         1.4 MB\n",
      "    pytorch-1.6.0              |py3.7_cuda10.2.89_cudnn7.6.5_0       537.7 MB  pytorch\n",
      "    ------------------------------------------------------------\n",
      "                                           Total:       904.5 MB\n",
      "\n",
      "The following NEW packages will be INSTALLED:\n",
      "\n",
      "  cudatoolkit        pkgs/main/linux-64::cudatoolkit-10.2.89-hfd86e86_1\n",
      "  ninja              pkgs/main/linux-64::ninja-1.10.2-hff7bd54_1\n",
      "  pytorch            pytorch/linux-64::pytorch-1.6.0-py3.7_cuda10.2.89_cudnn7.6.5_0\n",
      "\n",
      "The following packages will be UPDATED:\n",
      "\n",
      "  ca-certificates    conda-forge::ca-certificates-2021.5.3~ --> pkgs/main::ca-certificates-2021.7.5-h06a4308_1\n",
      "\n",
      "The following packages will be SUPERSEDED by a higher-priority channel:\n",
      "\n",
      "  certifi            conda-forge::certifi-2021.5.30-py37h8~ --> pkgs/main::certifi-2021.5.30-py37h06a4308_0\n",
      "\n",
      "\n",
      "Preparing transaction: ...working... done\n",
      "Verifying transaction: ...working... done\n",
      "Executing transaction: ...working... done\n",
      "/opt/conda/lib/python3.7/site-packages/secretstorage/dhcrypto.py:16: CryptographyDeprecationWarning: int_from_bytes is deprecated, use int.from_bytes instead\n",
      "  from cryptography.utils import int_from_bytes\n",
      "/opt/conda/lib/python3.7/site-packages/secretstorage/util.py:25: CryptographyDeprecationWarning: int_from_bytes is deprecated, use int.from_bytes instead\n",
      "  from cryptography.utils import int_from_bytes\n",
      "\u001b[33mWARNING: Running pip as the 'root' user can result in broken permissions and conflicting behaviour with the system package manager. It is recommended to use a virtual environment instead: https://pip.pypa.io/warnings/venv\u001b[0m\n"
     ]
    }
   ],
   "source": [
    "# please ignore warning messages during the installation\n",
    "!pip install --disable-pip-version-check -q sagemaker==2.35.0\n",
    "!conda install -q -y pytorch==1.6.0 -c pytorch\n",
    "!pip install --disable-pip-version-check -q transformers==3.5.1"
   ]
  },
  {
   "cell_type": "code",
   "execution_count": 3,
   "metadata": {},
   "outputs": [],
   "source": [
    "import boto3\n",
    "import sagemaker\n",
    "import botocore\n",
    "\n",
    "config = botocore.config.Config(user_agent_extra='dlai-pds/c2/w1')\n",
    "\n",
    "# low-level service client of the boto3 session\n",
    "sm = boto3.client(service_name='sagemaker', \n",
    "                  config=config)\n",
    "\n",
    "featurestore_runtime = boto3.client(service_name='sagemaker-featurestore-runtime', \n",
    "                                    config=config)\n",
    "\n",
    "sess = sagemaker.Session(sagemaker_client=sm,\n",
    "                         sagemaker_featurestore_runtime_client=featurestore_runtime)\n",
    "\n",
    "bucket = sess.default_bucket()\n",
    "role = sagemaker.get_execution_role()\n",
    "region = sess.boto_region_name"
   ]
  },
  {
   "cell_type": "markdown",
   "metadata": {},
   "source": [
    "<a name='c2w1-1.'></a>\n",
    "# 1. Configure the SageMaker Feature Store"
   ]
  },
  {
   "cell_type": "markdown",
   "metadata": {},
   "source": [
    "<a name='c2w1-1.1.'></a>\n",
    "### 1.1. Configure dataset\n",
    "The raw dataset is in the public S3 bucket. Let's start by specifying the S3 location of it:"
   ]
  },
  {
   "cell_type": "code",
   "execution_count": 4,
   "metadata": {},
   "outputs": [
    {
     "name": "stdout",
     "output_type": "stream",
     "text": [
      "s3://dlai-practical-data-science/data/raw/\n"
     ]
    }
   ],
   "source": [
    "raw_input_data_s3_uri = 's3://dlai-practical-data-science/data/raw/'\n",
    "print(raw_input_data_s3_uri)"
   ]
  },
  {
   "cell_type": "markdown",
   "metadata": {},
   "source": [
    "List the files in the S3 bucket (in this case it will be just one file):"
   ]
  },
  {
   "cell_type": "code",
   "execution_count": 5,
   "metadata": {},
   "outputs": [
    {
     "name": "stdout",
     "output_type": "stream",
     "text": [
      "2021-04-30 02:21:06    8457214 womens_clothing_ecommerce_reviews.csv\n"
     ]
    }
   ],
   "source": [
    "!aws s3 ls $raw_input_data_s3_uri"
   ]
  },
  {
   "cell_type": "markdown",
   "metadata": {},
   "source": [
    "<a name='c2w1-1.2.'></a>\n",
    "### 1.2. Configure the SageMaker feature store\n",
    "\n",
    "As the result of the transformation, in addition to generating files in S3 bucket, you will also save the transformed data in the **Amazon SageMaker Feature Store** to be used by others in your organization, for example. \n",
    "\n",
    "To configure a Feature Store you need to setup a **Feature Group**. This is the main resource containing all of the metadata related to the data stored in the Feature Store. A Feature Group should contain a list of **Feature Definitions**. A Feature Definition consists of a name and the data type. The Feature Group also contains an online store configuration and an offline store configuration controlling where the data is stored. Enabling the online store allows quick access to the latest value for a record via the [GetRecord API](https://docs.aws.amazon.com/sagemaker/latest/APIReference/API_feature_store_GetRecord.html). The offline store allows storage of the data in your S3 bucket. You will be using the offline store in this lab.\n",
    "\n",
    "Let's setup the Feature Group name and the Feature Store offline prefix in S3 bucket (you will use those later in the lab):"
   ]
  },
  {
   "cell_type": "code",
   "execution_count": 6,
   "metadata": {},
   "outputs": [
    {
     "name": "stdout",
     "output_type": "stream",
     "text": [
      "Feature group name: reviews-feature-group-1632665802\n",
      "Feature store offline prefix in S3: reviews-feature-store-1632665802\n"
     ]
    }
   ],
   "source": [
    "import time\n",
    "timestamp = int(time.time())\n",
    "\n",
    "feature_group_name = 'reviews-feature-group-' + str(timestamp)\n",
    "feature_store_offline_prefix = 'reviews-feature-store-' + str(timestamp)\n",
    "\n",
    "print('Feature group name: {}'.format(feature_group_name))\n",
    "print('Feature store offline prefix in S3: {}'.format(feature_store_offline_prefix))"
   ]
  },
  {
   "cell_type": "markdown",
   "metadata": {},
   "source": [
    "Taking two features from the original raw dataset (`Review Text` and `Rating`), you will transform it preparing to be used for the model training and then to be saved in the Feature Store. Here you will define the related features to be stored as a list of `FeatureDefinition`."
   ]
  },
  {
   "cell_type": "code",
   "execution_count": 7,
   "metadata": {},
   "outputs": [],
   "source": [
    "from sagemaker.feature_store.feature_definition import (\n",
    "    FeatureDefinition,\n",
    "    FeatureTypeEnum,\n",
    ")\n",
    "\n",
    "feature_definitions= [\n",
    "    # unique ID of the review\n",
    "    FeatureDefinition(feature_name='review_id', feature_type=FeatureTypeEnum.STRING), \n",
    "    # ingestion timestamp\n",
    "    FeatureDefinition(feature_name='date', feature_type=FeatureTypeEnum.STRING),\n",
    "    # sentiment: -1 (negative), 0 (neutral) or 1 (positive). It will be found the Rating values (1, 2, 3, 4, 5)\n",
    "    FeatureDefinition(feature_name='sentiment', feature_type=FeatureTypeEnum.STRING), \n",
    "    # label ID of the target class (sentiment)\n",
    "    FeatureDefinition(feature_name='label_id', feature_type=FeatureTypeEnum.STRING),\n",
    "    # reviews encoded with the BERT tokenizer\n",
    "    FeatureDefinition(feature_name='input_ids', feature_type=FeatureTypeEnum.STRING),\n",
    "    # original Review Text\n",
    "    FeatureDefinition(feature_name='review_body', feature_type=FeatureTypeEnum.STRING),\n",
    "    # train/validation/test label\n",
    "    FeatureDefinition(feature_name='split_type', feature_type=FeatureTypeEnum.STRING)\n",
    "]"
   ]
  },
  {
   "cell_type": "markdown",
   "metadata": {},
   "source": [
    "<a name='c2w1-ex-1'></a>\n",
    "### Exercise 1\n",
    "\n",
    "Create the feature group using the feature definitions defined above.\n",
    "\n",
    "**Instructions:** Use the `FeatureGroup` function passing the defined above feature group name and the feature definitions.\n",
    "\n",
    "```python\n",
    "feature_group = FeatureGroup(\n",
    "    name=..., # Feature Group name\n",
    "    feature_definitions=..., # a list of Feature Definitions\n",
    "    sagemaker_session=sess # SageMaker session\n",
    ")\n",
    "```"
   ]
  },
  {
   "cell_type": "code",
   "execution_count": 51,
   "metadata": {},
   "outputs": [
    {
     "name": "stdout",
     "output_type": "stream",
     "text": [
      "FeatureGroup(name='reviews-feature-group-1632665802', sagemaker_session=<sagemaker.session.Session object at 0x7f6afa840990>, feature_definitions=[FeatureDefinition(feature_name='review_id', feature_type=<FeatureTypeEnum.STRING: 'String'>), FeatureDefinition(feature_name='date', feature_type=<FeatureTypeEnum.STRING: 'String'>), FeatureDefinition(feature_name='sentiment', feature_type=<FeatureTypeEnum.STRING: 'String'>), FeatureDefinition(feature_name='label_id', feature_type=<FeatureTypeEnum.STRING: 'String'>), FeatureDefinition(feature_name='input_ids', feature_type=<FeatureTypeEnum.STRING: 'String'>), FeatureDefinition(feature_name='review_body', feature_type=<FeatureTypeEnum.STRING: 'String'>), FeatureDefinition(feature_name='split_type', feature_type=<FeatureTypeEnum.STRING: 'String'>)])\n"
     ]
    }
   ],
   "source": [
    "from sagemaker.feature_store.feature_group import FeatureGroup\n",
    "\n",
    "feature_group = FeatureGroup(\n",
    "    ### BEGIN SOLUTION - DO NOT delete this comment for grading purposes\n",
    "    name=feature_group_name, # Replace None\n",
    "    feature_definitions=feature_definitions, # Replace None\n",
    "    ### END SOLUTION - DO NOT delete this comment for grading purposes\n",
    "    sagemaker_session=sess\n",
    ")\n",
    "\n",
    "print(feature_group)"
   ]
  },
  {
   "cell_type": "markdown",
   "metadata": {},
   "source": [
    "You will use the defined Feature Group later in this lab, the actual creation of the Feature Group will take place in the processing job. Now let's move into the setup of the processing job to transform the dataset."
   ]
  },
  {
   "cell_type": "markdown",
   "metadata": {},
   "source": [
    "<a name='c2w1-2.'></a>\n",
    "# 2. Transform the dataset\n",
    "\n",
    "You will configure a SageMaker processing job to run a custom Python script to balance and transform the raw data into a format used by BERT model.\n",
    "\n",
    "Set the transformation parameters including the instance type, instance count, and train/validation/test split percentages. For the purposes of this lab, you will use a relatively small instance type. Please refer to [this](https://aws.amazon.com/sagemaker/pricing/) link for additional instance types that may work for your use case outside of this lab.\n",
    "\n",
    "You can also choose whether you want to balance the dataset or not. In this case, you will balance the dataset to avoid class imbalance in the target variable, `sentiment`. \n",
    "\n",
    "Another important parameter of the model is the `max_seq_length`, which specifies the maximum length of the classified reviews for the RoBERTa model. If the sentence is shorter than the maximum length parameter, it will be padded. In another case, when the sentence is longer, it will be truncated from the right side.\n",
    "\n",
    "Since a smaller `max_seq_length` leads to faster training and lower resource utilization, you want to find the smallest power-of-2 that captures `100%` of our reviews.  For this dataset, the `100th` percentile is `115`.  However, it's best to stick with powers-of-2 when using BERT. So let's choose `128` as this is the smallest power-of-2 greater than `115`. You will see below how the shorter sentences will be padded to a maximum length.\n",
    "\n",
    "\n",
    "```\n",
    "mean        52.512374\n",
    "std         31.387048\n",
    "min          1.000000\n",
    "10%         10.000000\n",
    "20%         22.000000\n",
    "30%         32.000000\n",
    "40%         41.000000\n",
    "50%         51.000000\n",
    "60%         61.000000\n",
    "70%         73.000000\n",
    "80%         88.000000\n",
    "90%         97.000000\n",
    "100%       115.000000\n",
    "max        115.000000\n",
    "```\n",
    "\n",
    "![](images/distribution_num_words_per_review.png)\n"
   ]
  },
  {
   "cell_type": "code",
   "execution_count": 9,
   "metadata": {
    "scrolled": true
   },
   "outputs": [],
   "source": [
    "processing_instance_type='ml.c5.xlarge'\n",
    "processing_instance_count=1\n",
    "train_split_percentage=0.90\n",
    "validation_split_percentage=0.05\n",
    "test_split_percentage=0.05\n",
    "balance_dataset=True\n",
    "max_seq_length=128"
   ]
  },
  {
   "cell_type": "markdown",
   "metadata": {},
   "source": [
    "To balance and transform our data, you will use a scikit-learn-based processing job. This is essentially a generic Python processing job with scikit-learn pre-installed. You can specify the version of scikit-learn you wish to use. Also pass the SageMaker execution role, processing instance type and instance count."
   ]
  },
  {
   "cell_type": "code",
   "execution_count": 10,
   "metadata": {
    "scrolled": true
   },
   "outputs": [],
   "source": [
    "from sagemaker.sklearn.processing import SKLearnProcessor\n",
    "\n",
    "processor = SKLearnProcessor(\n",
    "    framework_version='0.23-1',\n",
    "    role=role,\n",
    "    instance_type=processing_instance_type,\n",
    "    instance_count=processing_instance_count,\n",
    "    env={'AWS_DEFAULT_REGION': region},                             \n",
    "    max_runtime_in_seconds=7200\n",
    ")"
   ]
  },
  {
   "cell_type": "markdown",
   "metadata": {},
   "source": [
    "The processing job will be running the Python code from the file `src/prepare_data.py`. In the following exercise you will review the contents of the file and familiarize yourself with main parts of it. "
   ]
  },
  {
   "cell_type": "markdown",
   "metadata": {},
   "source": [
    "<a name='c2w1-ex-2'></a>\n",
    "### Exercise 2\n",
    "\n",
    "1. Open the file [src/prepare_data.py](src/prepare_data.py). Go through the comments to understand its content.\n",
    "2. Find and review the `convert_to_bert_input_ids()` function, which contains the RoBERTa `tokenizer` configuration.\n",
    "3. Complete method `encode_plus` of the RoBERTa `tokenizer`. Pass the `max_seq_length` as a value for the argument `max_length`. It defines a pad to a maximum length specified.\n",
    "4. Save the file [src/prepare_data.py](src/prepare_data.py) (with the menu command File -> Save Python File)."
   ]
  },
  {
   "cell_type": "markdown",
   "metadata": {},
   "source": [
    "### _This cell will take approximately 1-2 minutes to run._"
   ]
  },
  {
   "cell_type": "code",
   "execution_count": 11,
   "metadata": {},
   "outputs": [
    {
     "data": {
      "application/vnd.jupyter.widget-view+json": {
       "model_id": "9f96b3de68554552a583bc7c7c567d8c",
       "version_major": 2,
       "version_minor": 0
      },
      "text/plain": [
       "HBox(children=(FloatProgress(value=0.0, description='Downloading', max=898823.0, style=ProgressStyle(descripti…"
      ]
     },
     "metadata": {},
     "output_type": "display_data"
    },
    {
     "name": "stdout",
     "output_type": "stream",
     "text": [
      "\n"
     ]
    },
    {
     "data": {
      "application/vnd.jupyter.widget-view+json": {
       "model_id": "24d53bf3498946e895a50ce34f6e0780",
       "version_major": 2,
       "version_minor": 0
      },
      "text/plain": [
       "HBox(children=(FloatProgress(value=0.0, description='Downloading', max=456318.0, style=ProgressStyle(descripti…"
      ]
     },
     "metadata": {},
     "output_type": "display_data"
    },
    {
     "name": "stdout",
     "output_type": "stream",
     "text": [
      "\n",
      "##################\n",
      "Updated correctly!\n",
      "##################\n"
     ]
    }
   ],
   "source": [
    "import sys, importlib\n",
    "sys.path.append('src/')\n",
    "\n",
    "# import the `prepare_data.py` module\n",
    "import prepare_data\n",
    "\n",
    "# reload the module if it has been previously loaded \n",
    "if 'prepare_data' in sys.modules:\n",
    "    importlib.reload(prepare_data)\n",
    "\n",
    "input_ids = prepare_data.convert_to_bert_input_ids(\"this product is great!\", max_seq_length)\n",
    "    \n",
    "updated_correctly = False\n",
    "\n",
    "if len(input_ids) != max_seq_length:\n",
    "    print('#######################################################################################################')\n",
    "    print('Please check that the function \\'convert_to_bert_input_ids\\' in the file src/prepare_data.py is complete.')\n",
    "    print('#######################################################################################################')\n",
    "    raise Exception('Please check that the function \\'convert_to_bert_input_ids\\' in the file src/prepare_data.py is complete.')\n",
    "else:\n",
    "    print('##################')\n",
    "    print('Updated correctly!')\n",
    "    print('##################')\n",
    "\n",
    "    updated_correctly = True"
   ]
  },
  {
   "cell_type": "markdown",
   "metadata": {},
   "source": [
    "Review the results of tokenization for the given example (*\\\"this product is great!\\\"*):"
   ]
  },
  {
   "cell_type": "code",
   "execution_count": 12,
   "metadata": {},
   "outputs": [
    {
     "name": "stdout",
     "output_type": "stream",
     "text": [
      "[0, 9226, 1152, 16, 372, 328, 2, 1, 1, 1, 1, 1, 1, 1, 1, 1, 1, 1, 1, 1, 1, 1, 1, 1, 1, 1, 1, 1, 1, 1, 1, 1, 1, 1, 1, 1, 1, 1, 1, 1, 1, 1, 1, 1, 1, 1, 1, 1, 1, 1, 1, 1, 1, 1, 1, 1, 1, 1, 1, 1, 1, 1, 1, 1, 1, 1, 1, 1, 1, 1, 1, 1, 1, 1, 1, 1, 1, 1, 1, 1, 1, 1, 1, 1, 1, 1, 1, 1, 1, 1, 1, 1, 1, 1, 1, 1, 1, 1, 1, 1, 1, 1, 1, 1, 1, 1, 1, 1, 1, 1, 1, 1, 1, 1, 1, 1, 1, 1, 1, 1, 1, 1, 1, 1, 1, 1, 1, 1]\n",
      "Length of the sequence: 128\n"
     ]
    }
   ],
   "source": [
    "input_ids = prepare_data.convert_to_bert_input_ids(\"this product is great!\", max_seq_length)\n",
    "\n",
    "print(input_ids)\n",
    "print('Length of the sequence: {}'.format(len(input_ids)))"
   ]
  },
  {
   "cell_type": "markdown",
   "metadata": {},
   "source": [
    "Launch the processing job with the custom script passing defined above parameters."
   ]
  },
  {
   "cell_type": "code",
   "execution_count": 52,
   "metadata": {},
   "outputs": [
    {
     "name": "stdout",
     "output_type": "stream",
     "text": [
      "\n",
      "Job Name:  sagemaker-scikit-learn-2021-09-26-14-53-31-777\n",
      "Inputs:  [{'InputName': 'input-1', 'AppManaged': False, 'S3Input': {'S3Uri': 's3://dlai-practical-data-science/data/raw/', 'LocalPath': '/opt/ml/processing/input/data/', 'S3DataType': 'S3Prefix', 'S3InputMode': 'File', 'S3DataDistributionType': 'ShardedByS3Key', 'S3CompressionType': 'None'}}, {'InputName': 'code', 'AppManaged': False, 'S3Input': {'S3Uri': 's3://sagemaker-us-east-1-992620361425/sagemaker-scikit-learn-2021-09-26-14-53-31-777/input/code/prepare_data.py', 'LocalPath': '/opt/ml/processing/input/code', 'S3DataType': 'S3Prefix', 'S3InputMode': 'File', 'S3DataDistributionType': 'FullyReplicated', 'S3CompressionType': 'None'}}]\n",
      "Outputs:  [{'OutputName': 'sentiment-train', 'AppManaged': False, 'S3Output': {'S3Uri': 's3://sagemaker-us-east-1-992620361425/sagemaker-scikit-learn-2021-09-26-14-53-31-777/output/sentiment-train', 'LocalPath': '/opt/ml/processing/output/sentiment/train', 'S3UploadMode': 'EndOfJob'}}, {'OutputName': 'sentiment-validation', 'AppManaged': False, 'S3Output': {'S3Uri': 's3://sagemaker-us-east-1-992620361425/sagemaker-scikit-learn-2021-09-26-14-53-31-777/output/sentiment-validation', 'LocalPath': '/opt/ml/processing/output/sentiment/validation', 'S3UploadMode': 'EndOfJob'}}, {'OutputName': 'sentiment-test', 'AppManaged': False, 'S3Output': {'S3Uri': 's3://sagemaker-us-east-1-992620361425/sagemaker-scikit-learn-2021-09-26-14-53-31-777/output/sentiment-test', 'LocalPath': '/opt/ml/processing/output/sentiment/test', 'S3UploadMode': 'EndOfJob'}}]\n"
     ]
    }
   ],
   "source": [
    "from sagemaker.processing import ProcessingInput, ProcessingOutput\n",
    "\n",
    "if (updated_correctly):\n",
    "\n",
    "    processor.run(code='src/prepare_data.py',\n",
    "              inputs=[\n",
    "                    ProcessingInput(source=raw_input_data_s3_uri,\n",
    "                                    destination='/opt/ml/processing/input/data/',\n",
    "                                    s3_data_distribution_type='ShardedByS3Key')\n",
    "              ],\n",
    "              outputs=[\n",
    "                    ProcessingOutput(output_name='sentiment-train',\n",
    "                                     source='/opt/ml/processing/output/sentiment/train',\n",
    "                                     s3_upload_mode='EndOfJob'),\n",
    "                    ProcessingOutput(output_name='sentiment-validation',\n",
    "                                     source='/opt/ml/processing/output/sentiment/validation',\n",
    "                                     s3_upload_mode='EndOfJob'),\n",
    "                    ProcessingOutput(output_name='sentiment-test',\n",
    "                                     source='/opt/ml/processing/output/sentiment/test',\n",
    "                                     s3_upload_mode='EndOfJob')\n",
    "              ],\n",
    "              arguments=['--train-split-percentage', str(train_split_percentage),\n",
    "                         '--validation-split-percentage', str(validation_split_percentage),\n",
    "                         '--test-split-percentage', str(test_split_percentage),\n",
    "                         '--balance-dataset', str(balance_dataset),\n",
    "                         '--max-seq-length', str(max_seq_length),                         \n",
    "                         '--feature-store-offline-prefix', str(feature_store_offline_prefix),\n",
    "                         '--feature-group-name', str(feature_group_name)                         \n",
    "              ],\n",
    "              logs=True,\n",
    "              wait=False)\n",
    "\n",
    "else:\n",
    "    print('#######################################')\n",
    "    print('Please update the code correctly above.')\n",
    "    print('#######################################')    "
   ]
  },
  {
   "cell_type": "markdown",
   "metadata": {},
   "source": [
    "You can see the information about the processing jobs using the `describe` function. The result is in dictionary format. Let's pull the processing job name:"
   ]
  },
  {
   "cell_type": "code",
   "execution_count": 14,
   "metadata": {
    "scrolled": true
   },
   "outputs": [
    {
     "name": "stdout",
     "output_type": "stream",
     "text": [
      "Processing job name: sagemaker-scikit-learn-2021-09-26-14-22-30-110\n"
     ]
    }
   ],
   "source": [
    "scikit_processing_job_name = processor.jobs[-1].describe()['ProcessingJobName']\n",
    "\n",
    "print('Processing job name: {}'.format(scikit_processing_job_name))"
   ]
  },
  {
   "cell_type": "markdown",
   "metadata": {},
   "source": [
    "<a name='c2w1-ex-3'></a>\n",
    "### Exercise 3\n",
    "\n",
    "Pull the processing job status from the processing job description.\n",
    "\n",
    "**Instructions**: Print the keys of the processing job description dictionary, choose the one related to the status of the processing job and print the value of it."
   ]
  },
  {
   "cell_type": "code",
   "execution_count": 15,
   "metadata": {
    "scrolled": true
   },
   "outputs": [
    {
     "name": "stdout",
     "output_type": "stream",
     "text": [
      "dict_keys(['ProcessingInputs', 'ProcessingOutputConfig', 'ProcessingJobName', 'ProcessingResources', 'StoppingCondition', 'AppSpecification', 'Environment', 'RoleArn', 'ProcessingJobArn', 'ProcessingJobStatus', 'LastModifiedTime', 'CreationTime', 'ResponseMetadata'])\n"
     ]
    }
   ],
   "source": [
    "print(processor.jobs[-1].describe().keys())"
   ]
  },
  {
   "cell_type": "code",
   "execution_count": 24,
   "metadata": {
    "scrolled": true
   },
   "outputs": [
    {
     "name": "stdout",
     "output_type": "stream",
     "text": [
      "Processing job status: Completed\n"
     ]
    }
   ],
   "source": [
    "### BEGIN SOLUTION - DO NOT delete this comment for grading purposes\n",
    "scikit_processing_job_status = processor.jobs[-1].describe()['ProcessingJobStatus'] # Replace None\n",
    "### END SOLUTION - DO NOT delete this comment for grading purposes\n",
    "print('Processing job status: {}'.format(scikit_processing_job_status))"
   ]
  },
  {
   "cell_type": "markdown",
   "metadata": {},
   "source": [
    "Review the created processing job in the AWS console.\n",
    "\n",
    "**Instructions**: \n",
    "- open the link\n",
    "- notice that you are in the section `Amazon SageMaker` -> `Processing jobs`\n",
    "- check the name of the processing job, its status and other available information"
   ]
  },
  {
   "cell_type": "code",
   "execution_count": 18,
   "metadata": {
    "scrolled": true
   },
   "outputs": [
    {
     "data": {
      "text/html": [
       "<b>Review <a target=\"blank\" href=\"https://console.aws.amazon.com/sagemaker/home?region=us-east-1#/processing-jobs/sagemaker-scikit-learn-2021-09-26-14-22-30-110\">processing job</a></b>"
      ],
      "text/plain": [
       "<IPython.core.display.HTML object>"
      ]
     },
     "metadata": {},
     "output_type": "display_data"
    }
   ],
   "source": [
    "from IPython.core.display import display, HTML\n",
    "\n",
    "display(HTML('<b>Review <a target=\"blank\" href=\"https://console.aws.amazon.com/sagemaker/home?region={}#/processing-jobs/{}\">processing job</a></b>'.format(region, scikit_processing_job_name)))"
   ]
  },
  {
   "cell_type": "markdown",
   "metadata": {},
   "source": [
    "Wait for about 5 minutes to review the CloudWatch Logs. You may open the file [src/prepare_data.py](src/prepare_data.py) again and examine the outputs of the code in the CloudWatch logs."
   ]
  },
  {
   "cell_type": "code",
   "execution_count": 19,
   "metadata": {
    "scrolled": true
   },
   "outputs": [
    {
     "data": {
      "text/html": [
       "<b>Review <a target=\"blank\" href=\"https://console.aws.amazon.com/cloudwatch/home?region=us-east-1#logStream:group=/aws/sagemaker/ProcessingJobs;prefix=sagemaker-scikit-learn-2021-09-26-14-22-30-110;streamFilter=typeLogStreamPrefix\">CloudWatch logs</a> after about 5 minutes</b>"
      ],
      "text/plain": [
       "<IPython.core.display.HTML object>"
      ]
     },
     "metadata": {},
     "output_type": "display_data"
    }
   ],
   "source": [
    "from IPython.core.display import display, HTML\n",
    "\n",
    "display(HTML('<b>Review <a target=\"blank\" href=\"https://console.aws.amazon.com/cloudwatch/home?region={}#logStream:group=/aws/sagemaker/ProcessingJobs;prefix={};streamFilter=typeLogStreamPrefix\">CloudWatch logs</a> after about 5 minutes</b>'.format(region, scikit_processing_job_name)))"
   ]
  },
  {
   "cell_type": "markdown",
   "metadata": {},
   "source": [
    "After the completion of the processing job you can also review the output in the S3 bucket."
   ]
  },
  {
   "cell_type": "code",
   "execution_count": 20,
   "metadata": {
    "scrolled": true
   },
   "outputs": [
    {
     "data": {
      "text/html": [
       "<b>Review <a target=\"blank\" href=\"https://s3.console.aws.amazon.com/s3/buckets/sagemaker-us-east-1-992620361425/sagemaker-scikit-learn-2021-09-26-14-22-30-110/?region=us-east-1&tab=overview\">S3 output data</a> after the processing job has completed</b>"
      ],
      "text/plain": [
       "<IPython.core.display.HTML object>"
      ]
     },
     "metadata": {},
     "output_type": "display_data"
    }
   ],
   "source": [
    "from IPython.core.display import display, HTML\n",
    "\n",
    "display(HTML('<b>Review <a target=\"blank\" href=\"https://s3.console.aws.amazon.com/s3/buckets/{}/{}/?region={}&tab=overview\">S3 output data</a> after the processing job has completed</b>'.format(bucket, scikit_processing_job_name, region)))\n"
   ]
  },
  {
   "cell_type": "markdown",
   "metadata": {},
   "source": [
    "Wait for the processing job to complete.\n",
    "\n",
    "### _This cell will take approximately 15 minutes to run._"
   ]
  },
  {
   "cell_type": "code",
   "execution_count": 40,
   "metadata": {},
   "outputs": [
    {
     "name": "stdout",
     "output_type": "stream",
     "text": [
      "!CPU times: user 7.54 ms, sys: 632 µs, total: 8.17 ms\n",
      "Wall time: 38.7 ms\n"
     ]
    }
   ],
   "source": [
    "%%time\n",
    "\n",
    "running_processor = sagemaker.processing.ProcessingJob.from_processing_name(\n",
    "    processing_job_name=scikit_processing_job_name,\n",
    "    sagemaker_session=sess\n",
    ")\n",
    "\n",
    "running_processor.wait(logs=False)"
   ]
  },
  {
   "cell_type": "markdown",
   "metadata": {},
   "source": [
    "_Please wait until ^^ Processing Job ^^ completes above_"
   ]
  },
  {
   "cell_type": "markdown",
   "metadata": {},
   "source": [
    "Inspect the transformed and balanced data in the S3 bucket."
   ]
  },
  {
   "cell_type": "code",
   "execution_count": 41,
   "metadata": {},
   "outputs": [
    {
     "name": "stdout",
     "output_type": "stream",
     "text": [
      "s3://sagemaker-us-east-1-992620361425/sagemaker-scikit-learn-2021-09-26-14-22-30-110/output/sentiment-train\n",
      "s3://sagemaker-us-east-1-992620361425/sagemaker-scikit-learn-2021-09-26-14-22-30-110/output/sentiment-validation\n",
      "s3://sagemaker-us-east-1-992620361425/sagemaker-scikit-learn-2021-09-26-14-22-30-110/output/sentiment-test\n"
     ]
    }
   ],
   "source": [
    "processing_job_description = running_processor.describe()\n",
    "\n",
    "output_config = processing_job_description['ProcessingOutputConfig']\n",
    "for output in output_config['Outputs']:\n",
    "    if output['OutputName'] == 'sentiment-train':\n",
    "        processed_train_data_s3_uri = output['S3Output']['S3Uri']\n",
    "    if output['OutputName'] == 'sentiment-validation':\n",
    "        processed_validation_data_s3_uri = output['S3Output']['S3Uri']\n",
    "    if output['OutputName'] == 'sentiment-test':\n",
    "        processed_test_data_s3_uri = output['S3Output']['S3Uri']\n",
    "        \n",
    "print(processed_train_data_s3_uri)\n",
    "print(processed_validation_data_s3_uri)\n",
    "print(processed_test_data_s3_uri)"
   ]
  },
  {
   "cell_type": "code",
   "execution_count": 42,
   "metadata": {
    "scrolled": true
   },
   "outputs": [
    {
     "name": "stdout",
     "output_type": "stream",
     "text": [
      "2021-09-26 14:35:57    4876104 part-algo-1-womens_clothing_ecommerce_reviews.tsv\n"
     ]
    }
   ],
   "source": [
    "!aws s3 ls $processed_train_data_s3_uri/"
   ]
  },
  {
   "cell_type": "code",
   "execution_count": 29,
   "metadata": {
    "scrolled": true
   },
   "outputs": [
    {
     "name": "stdout",
     "output_type": "stream",
     "text": [
      "2021-09-26 14:35:58     274375 part-algo-1-womens_clothing_ecommerce_reviews.tsv\n"
     ]
    }
   ],
   "source": [
    "!aws s3 ls $processed_validation_data_s3_uri/"
   ]
  },
  {
   "cell_type": "code",
   "execution_count": 30,
   "metadata": {
    "scrolled": true
   },
   "outputs": [
    {
     "name": "stdout",
     "output_type": "stream",
     "text": [
      "2021-09-26 14:35:58     274126 part-algo-1-womens_clothing_ecommerce_reviews.tsv\n"
     ]
    }
   ],
   "source": [
    "!aws s3 ls $processed_test_data_s3_uri/"
   ]
  },
  {
   "cell_type": "markdown",
   "metadata": {},
   "source": [
    "Copy the data into the folder `balanced`."
   ]
  },
  {
   "cell_type": "code",
   "execution_count": 43,
   "metadata": {},
   "outputs": [
    {
     "name": "stdout",
     "output_type": "stream",
     "text": [
      "download: s3://sagemaker-us-east-1-992620361425/sagemaker-scikit-learn-2021-09-26-14-22-30-110/output/sentiment-train/part-algo-1-womens_clothing_ecommerce_reviews.tsv to balanced/sentiment-train/part-algo-1-womens_clothing_ecommerce_reviews.tsv\n",
      "download: s3://sagemaker-us-east-1-992620361425/sagemaker-scikit-learn-2021-09-26-14-22-30-110/output/sentiment-validation/part-algo-1-womens_clothing_ecommerce_reviews.tsv to balanced/sentiment-validation/part-algo-1-womens_clothing_ecommerce_reviews.tsv\n",
      "download: s3://sagemaker-us-east-1-992620361425/sagemaker-scikit-learn-2021-09-26-14-22-30-110/output/sentiment-test/part-algo-1-womens_clothing_ecommerce_reviews.tsv to balanced/sentiment-test/part-algo-1-womens_clothing_ecommerce_reviews.tsv\n"
     ]
    }
   ],
   "source": [
    "!aws s3 cp $processed_train_data_s3_uri/part-algo-1-womens_clothing_ecommerce_reviews.tsv ./balanced/sentiment-train/\n",
    "!aws s3 cp $processed_validation_data_s3_uri/part-algo-1-womens_clothing_ecommerce_reviews.tsv ./balanced/sentiment-validation/\n",
    "!aws s3 cp $processed_test_data_s3_uri/part-algo-1-womens_clothing_ecommerce_reviews.tsv ./balanced/sentiment-test/"
   ]
  },
  {
   "cell_type": "markdown",
   "metadata": {},
   "source": [
    "Review the training, validation and test data outputs:"
   ]
  },
  {
   "cell_type": "code",
   "execution_count": 44,
   "metadata": {},
   "outputs": [
    {
     "name": "stdout",
     "output_type": "stream",
     "text": [
      "review_id\tsentiment\tlabel_id\tinput_ids\treview_body\tdate\n",
      "16368\t1\t2\t[0, 100, 300, 5, 2440, 5780, 8, 939, 657, 24, 4, 1365, 7, 914, 19, 143, 2576, 269, 4, 939, 101, 14, 24, 64, 28, 156, 18052, 16979, 4, 2, 1, 1, 1, 1, 1, 1, 1, 1, 1, 1, 1, 1, 1, 1, 1, 1, 1, 1, 1, 1, 1, 1, 1, 1, 1, 1, 1, 1, 1, 1, 1, 1, 1, 1, 1, 1, 1, 1, 1, 1, 1, 1, 1, 1, 1, 1, 1, 1, 1, 1, 1, 1, 1, 1, 1, 1, 1, 1, 1, 1, 1, 1, 1, 1, 1, 1, 1, 1, 1, 1, 1, 1, 1, 1, 1, 1, 1, 1, 1, 1, 1, 1, 1, 1, 1, 1, 1, 1, 1, 1, 1, 1, 1, 1, 1, 1, 1, 1]\tI got the blue print and i love it. easy to match with any bottom really. i like that it can be made strapless.\t2021-09-26T14:30:13Z\n",
      "17815\t0\t1\t[0, 1708, 939, 399, 75, 101, 5, 2564, 4, 2085, 142, 939, 2740, 4716, 1459, 8, 5, 5933, 4021, 162, 160, 1437, 53, 51, 3559, 75, 34203, 11, 143, 169, 4, 5, 3195, 8, 1468, 58, 2216, 8, 25234, 4, 56, 7, 2142, 106, 124, 600, 4, 2, 1, 1, 1, 1, 1, 1, 1, 1, 1, 1, 1, 1, 1, 1, 1, 1, 1, 1, 1, 1, 1, 1, 1, 1, 1, 1, 1, 1, 1, 1, 1, 1, 1, 1, 1, 1, 1, 1, 1, 1, 1, 1, 1, 1, 1, 1, 1, 1, 1, 1, 1, 1, 1, 1, 1, 1, 1, 1, 1, 1, 1, 1, 1, 1, 1, 1, 1, 1, 1, 1, 1, 1, 1, 1, 1, 1, 1, 1, 1, 1]\tBut i didn't like the fit. maybe because i ordered petite and the length threw me off  but they weren't flattering in any way. the color and material were unique and pleasing. had to send them back though.\t2021-09-26T14:30:13Z\n",
      "166\t-1\t0\t[0, 133, 16576, 14, 939, 829, 56, 182, 410, 2440, 50, 2272, 11, 24, 1437, 8, 21, 2260, 1104, 1437, 5718, 8, 103, 1275, 4, 5, 2564, 21, 2051, 53, 5, 1318, 13, 5, 425, 21, 45, 89, 13, 162, 4, 5, 1762, 9, 1318, 8, 5, 10208, 11, 5, 1318, 27601, 10, 671, 4, 2, 1, 1, 1, 1, 1, 1, 1, 1, 1, 1, 1, 1, 1, 1, 1, 1, 1, 1, 1, 1, 1, 1, 1, 1, 1, 1, 1, 1, 1, 1, 1, 1, 1, 1, 1, 1, 1, 1, 1, 1, 1, 1, 1, 1, 1, 1, 1, 1, 1, 1, 1, 1, 1, 1, 1, 1, 1, 1, 1, 1, 1, 1, 1, 1, 1, 1, 1, 1, 1, 1, 1, 1]\tThe skirt that i received had very little blue or green in it  and was mostly white  yellow and some red. the fit was fine but the quality for the price was not there for me. the lack of quality and the disappointment in the quality equals a return.\t2021-09-26T14:30:13Z\n",
      "11024\t1\t2\t[0, 10993, 9, 70, 10, 31929, 1437, 939, 524, 45, 5350, 11454, 23, 70, 4, 939, 524, 674, 6958, 53, 4716, 1459, 11, 1110, 9, 1575, 8, 12396, 8, 215, 4, 4010, 1437, 939, 524, 195, 1730, 231, 4877, 6764, 8, 59, 17072, 2697, 8, 2143, 27770, 14216, 19, 10, 27360, 8, 25944, 2496, 4, 70, 42, 839, 14, 939, 64, 120, 13203, 30, 14442, 73, 3998, 32915, 19, 10, 319, 9, 10199, 50, 739, 19553, 8, 215, 4, 114, 47, 32, 14216, 101, 162, 1437, 42, 3588, 40, 28, 1969, 13, 47, 328, 24, 5586, 110, 12340, 36, 29, 10839, 8, 4716, 1459, 43, 8, 492, 47, 23739, 36, 6025, 939, 2813, 939, 56, 1632, 2, 1, 1, 1, 1, 1, 1, 1, 1, 1, 1, 1]\tFirst of all a caveat  i am not curvy at all. i am average height but petite in terms of features and bones and such. specifically  i am 5 feet 6 inches tall and about 123 pounds and boyishly shaped with a feminine and timeless style. all this means that i can get overwhelmed by dresses/clothes with a lot of fabric or large prints and such. if you are shaped like me  this dress will be perfect for you! it highlights your advantages (slim and petite) and give you curves (that i wish i had natural\t2021-09-26T14:30:13Z\n"
     ]
    }
   ],
   "source": [
    "!head -n 5 ./balanced/sentiment-train/part-algo-1-womens_clothing_ecommerce_reviews.tsv"
   ]
  },
  {
   "cell_type": "code",
   "execution_count": 33,
   "metadata": {},
   "outputs": [
    {
     "name": "stdout",
     "output_type": "stream",
     "text": [
      "review_id\tsentiment\tlabel_id\tinput_ids\treview_body\tdate\n",
      "5432\t0\t1\t[0, 100, 437, 195, 108, 176, 113, 1437, 9832, 5962, 19821, 7586, 939, 2740, 181, 401, 8, 303, 5, 28762, 350, 765, 4, 114, 939, 18822, 556, 50, 25619, 13587, 159, 14, 10199, 74, 3068, 3068, 62, 88, 127, 17507, 380, 86, 4, 5, 299, 21, 10, 410, 7082, 350, 4, 939, 437, 1718, 873, 4946, 4, 939, 657, 5, 8089, 8, 38985, 1521, 4, 16748, 939, 33, 7, 671, 4, 2, 1, 1, 1, 1, 1, 1, 1, 1, 1, 1, 1, 1, 1, 1, 1, 1, 1, 1, 1, 1, 1, 1, 1, 1, 1, 1, 1, 1, 1, 1, 1, 1, 1, 1, 1, 1, 1, 1, 1, 1, 1, 1, 1, 1, 1, 1, 1, 1, 1, 1, 1, 1, 1, 1, 1, 1]\t\"I'm 5'2\"\"  weigh 120 lb.. i ordered p6 and found the torso too short. if i bent forward or kneeled down that fabric would ride ride up into my butt big time. the top was a little loose too. i'm 35ab cup. i love the colors and geometric design. sadly i have to return.\"\t2021-09-26T14:30:13Z\n",
      "17154\t1\t2\t[0, 100, 2740, 5, 22, 462, 24639, 1437, 2242, 354, 1437, 9209, 260, 113, 5780, 1275, 299, 11, 10, 1836, 204, 4, 939, 213, 124, 8, 7264, 19, 12926, 132, 18, 8, 204, 18, 53, 939, 11464, 14, 19, 251, 21764, 1437, 939, 1017, 1195, 33, 10, 410, 929, 87, 24, 28, 15898, 4, 127, 6578, 553, 114, 939, 2162, 24, 13, 7398, 1342, 833, 18, 183, 12, 5, 1275, 5780, 8, 5, 1947, 2322, 123, 25, 8728, 4, 6992, 1437, 9869, 299, 4, 13719, 1468, 40, 28, 2579, 13, 4477, 2961, 148, 2608, 1437, 8, 2498, 15, 24, 18, 308, 11, 2428, 8, 220, 1136, 4, 2, 1, 1, 1, 1, 1, 1, 1, 1, 1, 1, 1, 1, 1, 1, 1, 1, 1, 1, 1, 1]\t\"I ordered the \"\"london  paris  milan\"\" print red top in a size 4. i go back and forth with ordering 2's and 4's but i figured that with long sleeves  i'd rather have a little room than it be fitted. my boyfriend asked if i bought it for valentine's day- the red print and the cities struck him as romantic. anyway  lovely top. lightweight material will be nice for layering during winter  and wearing on it's own in spring and next fall.\"\t2021-09-26T14:30:13Z\n",
      "4652\t1\t2\t[0, 17485, 28, 11962, 11, 5, 1035, 377, 8, 19, 10, 1763, 9, 23204, 326, 6183, 40, 173, 13, 2317, 1799, 4, 630, 75, 2045, 7, 283, 11, 10, 4716, 1459, 61, 16, 10, 741, 22539, 98, 939, 23855, 159, 4, 479, 2, 1, 1, 1, 1, 1, 1, 1, 1, 1, 1, 1, 1, 1, 1, 1, 1, 1, 1, 1, 1, 1, 1, 1, 1, 1, 1, 1, 1, 1, 1, 1, 1, 1, 1, 1, 1, 1, 1, 1, 1, 1, 1, 1, 1, 1, 1, 1, 1, 1, 1, 1, 1, 1, 1, 1, 1, 1, 1, 1, 1, 1, 1, 1, 1, 1, 1, 1, 1, 1, 1, 1, 1, 1, 1, 1, 1, 1, 1, 1, 1, 1, 1, 1, 1, 1]\tWill be cute in the summer months and with a pair of sweater tights will work for holiday parties. doesn't seem to come in a petite which is a bummer so i sized down. .\t2021-09-26T14:30:13Z\n",
      "8622\t0\t1\t[0, 43670, 3215, 10, 4716, 1459, 8, 24, 21, 45, 25, 2933, 9, 10, 21288, 101, 5, 2170, 4, 5, 12189, 15, 5, 124, 3730, 32, 1810, 8, 32, 45, 34203, 114, 47, 33, 143, 9158, 7, 110, 5081, 4, 817, 47, 356, 6012, 87, 47, 32, 328, 7524, 15, 760, 32, 67, 739, 1437, 61, 15056, 21269, 35841, 4, 209, 58, 1835, 1320, 25, 24, 222, 45, 173, 13, 162, 4, 2, 1, 1, 1, 1, 1, 1, 1, 1, 1, 1, 1, 1, 1, 1, 1, 1, 1, 1, 1, 1, 1, 1, 1, 1, 1, 1, 1, 1, 1, 1, 1, 1, 1, 1, 1, 1, 1, 1, 1, 1, 1, 1, 1, 1, 1, 1, 1, 1, 1, 1, 1, 1, 1, 1, 1]\tOrdered a petite and it was not as dark of a denim like the picture. the pockets on the backside are wide and are not flattering if you have any curve to your rear. makes you look wider than you are! pocket on front are also large  which accentuate thighs. these were returned immediately as it did not work for me.\t2021-09-26T14:30:13Z\n"
     ]
    }
   ],
   "source": [
    "!head -n 5 ./balanced/sentiment-validation/part-algo-1-womens_clothing_ecommerce_reviews.tsv"
   ]
  },
  {
   "cell_type": "code",
   "execution_count": 34,
   "metadata": {},
   "outputs": [
    {
     "name": "stdout",
     "output_type": "stream",
     "text": [
      "review_id\tsentiment\tlabel_id\tinput_ids\treview_body\tdate\n",
      "14445\t0\t1\t[0, 133, 1104, 16, 2198, 11708, 4, 939, 524, 98, 7428, 9, 192, 149, 15331, 12846, 190, 23, 5, 1392, 15, 299, 9, 1392, 850, 1437, 939, 1979, 75, 5940, 42, 6399, 4, 114, 5, 10199, 3559, 75, 11708, 24, 74, 28, 10, 182, 3137, 24382, 6399, 19, 10, 11962, 124, 4, 53, 24, 95, 1326, 15470, 19, 10, 6013, 299, 223, 24, 1437, 5, 13178, 95, 630, 75, 4477, 235, 4, 2, 1, 1, 1, 1, 1, 1, 1, 1, 1, 1, 1, 1, 1, 1, 1, 1, 1, 1, 1, 1, 1, 1, 1, 1, 1, 1, 1, 1, 1, 1, 1, 1, 1, 1, 1, 1, 1, 1, 1, 1, 1, 1, 1, 1, 1, 1, 1, 1, 1, 1, 1, 1, 1, 1, 1]\tThe white is completely sheer. i am so tired of see through shirts!! even at the sale on top of sale prices  i wouldn't recommend this shirt. if the fabric weren't sheer it would be a very comfy shirt with a cute back. but it just looks silly with a tank top under it  the cotton just doesn't lay right.\t2021-09-26T14:30:13Z\n",
      "7685\t1\t2\t[0, 100, 3584, 5, 909, 11, 5, 1400, 8, 5328, 5, 220, 183, 4, 98, 3793, 8, 22533, 15481, 1437, 1256, 24150, 4617, 4, 1318, 8, 2564, 25, 421, 4, 5, 3124, 6538, 32, 10, 29826, 2514, 87, 939, 6573, 1437, 53, 939, 3700, 3568, 10, 11021, 354, 4104, 223, 13657, 98, 24, 630, 75, 15304, 162, 4, 13, 5135, 1437, 939, 437, 195, 108, 398, 1437, 2491, 438, 8, 3584, 5, 4761, 4, 2, 1, 1, 1, 1, 1, 1, 1, 1, 1, 1, 1, 1, 1, 1, 1, 1, 1, 1, 1, 1, 1, 1, 1, 1, 1, 1, 1, 1, 1, 1, 1, 1, 1, 1, 1, 1, 1, 1, 1, 1, 1, 1, 1, 1, 1, 1, 1, 1, 1, 1, 1, 1, 1]\tI purchased the black in the store and wore the next day. so soft and lays nicely  pretty sleeve detail. quality and fit as expected. the arm holes are a tad larger than i prefer  but i typically wear a camisole under tops so it doesn't bother me. for reference  i'm 5'8  36c and purchased the medium.\t2021-09-26T14:30:13Z\n",
      "10242\t1\t2\t[0, 2847, 11962, 1437, 98, 3473, 1437, 98, 1256, 111, 98, 939, 4443, 939, 657, 960, 59, 24, 4, 24, 16, 45, 350, 765, 15, 162, 8, 939, 206, 47, 64, 3568, 24, 11, 171, 1319, 734, 802, 9, 1271, 10, 15203, 111, 802, 9, 10317, 111, 64, 75, 2067, 7, 3568, 24, 4, 939, 2854, 5, 1468, 16, 6143, 98, 24, 965, 75, 2342, 38755, 13, 1136, 50, 2608, 4, 1372, 19, 42, 2229, 4, 1237, 1528, 7, 1836, 4, 939, 439, 19, 5, 5963, 4, 939, 2128, 4689, 1675, 5933, 1437, 53, 42, 65, 16, 95, 235, 11, 5, 4716, 1459, 4, 939, 33, 251, 3701, 53, 209, 21764, 32, 95, 235, 4, 939, 524, 195, 16935, 4, 6764, 1437, 741, 2, 1, 1, 1, 1]\tSo cute  so comfortable  so pretty - so i guess i love everything about it. it is not too short on me and i think you can wear it in many ways... thought of adding a vest - thought of boots - can't wait to wear it. i agree the material is substantial so it isn't flimsy for fall or winter. happy with this purchase. runs true to size. i went with the op. i sometimes chose regular length  but this one is just right in the petite. i have long arms but these sleeves are just right. i am 5 ft. tall  b\t2021-09-26T14:30:13Z\n",
      "1687\t1\t2\t[0, 100, 437, 195, 108, 306, 1437, 10529, 23246, 1437, 359, 33, 10, 2491, 740, 73, 417, 11044, 131, 5, 3023, 29, 10698, 372, 4, 1437, 939, 10397, 960, 11, 2569, 359, 516, 3841, 734, 42, 21, 117, 8219, 4, 77, 939, 362, 24, 66, 9, 5, 21, 1843, 939, 1467, 1320, 46225, 939, 348, 2468, 24, 124, 88, 3989, 359, 10601, 24, 62, 1437, 53, 52, 581, 192, 4, 1437, 1437, 3841, 2382, 114, 47, 236, 7, 489, 24, 2, 1, 1, 1, 1, 1, 1, 1, 1, 1, 1, 1, 1, 1, 1, 1, 1, 1, 1, 1, 1, 1, 1, 1, 1, 1, 1, 1, 1, 1, 1, 1, 1, 1, 1, 1, 1, 1, 1, 1, 1, 1, 1, 1, 1, 1, 1, 1]\tI'm 5'4  125 lbs  & have a 36 c/d bust; the xs fits great.  i wash everything in cold & line dry... this was no exception. when i took it out of the washer i knew immediately :( i've pulled it back into shape & hung it up  but we'll see.   dry clean if you want to keep it\t2021-09-26T14:30:13Z\n"
     ]
    }
   ],
   "source": [
    "!head -n 5 ./balanced/sentiment-test/part-algo-1-womens_clothing_ecommerce_reviews.tsv"
   ]
  },
  {
   "cell_type": "markdown",
   "metadata": {},
   "source": [
    "<a name='c2w1-3.'></a>\n",
    "# 3. Query the Feature Store\n",
    "In addition to transforming the data and saving in S3 bucket, the processing job populates the feature store with the transformed and balanced data.  Let's query this data using Amazon Athena."
   ]
  },
  {
   "cell_type": "markdown",
   "metadata": {},
   "source": [
    "<a name='c2w1-3.1.'></a>\n",
    "### 3.1. Export training, validation, and test datasets from the Feature Store\n",
    "\n",
    "Here you will do the export only for the training dataset, as an example. \n",
    "\n",
    "Use `athena_query()` function to create an Athena query for the defined above Feature Group. Then you can pull the table name of the Amazon Glue Data Catalog table which is auto-generated by Feature Store."
   ]
  },
  {
   "cell_type": "code",
   "execution_count": 53,
   "metadata": {},
   "outputs": [
    {
     "name": "stdout",
     "output_type": "stream",
     "text": [
      "Glue Catalog table name: reviews-feature-group-1632665802-1632666583\n",
      "Running query: \n",
      "    SELECT date,\n",
      "        review_id,\n",
      "        sentiment, \n",
      "        label_id,\n",
      "        input_ids,\n",
      "        review_body\n",
      "    FROM \"reviews-feature-group-1632665802-1632666583\" \n",
      "    WHERE split_type='train' \n",
      "    LIMIT 5\n",
      "\n"
     ]
    }
   ],
   "source": [
    "feature_store_query = feature_group.athena_query()\n",
    "\n",
    "feature_store_table = feature_store_query.table_name\n",
    "\n",
    "query_string = \"\"\"\n",
    "    SELECT date,\n",
    "        review_id,\n",
    "        sentiment, \n",
    "        label_id,\n",
    "        input_ids,\n",
    "        review_body\n",
    "    FROM \"{}\" \n",
    "    WHERE split_type='train' \n",
    "    LIMIT 5\n",
    "\"\"\".format(feature_store_table)\n",
    "\n",
    "print('Glue Catalog table name: {}'.format(feature_store_table))\n",
    "print('Running query: {}'.format(query_string))"
   ]
  },
  {
   "cell_type": "markdown",
   "metadata": {},
   "source": [
    "Configure the S3 location for the query results.  This allows us to re-use the query results for future queries if the data has not changed.  We can even share this S3 location between team members to improve query performance for common queries on data that does not change often."
   ]
  },
  {
   "cell_type": "code",
   "execution_count": 54,
   "metadata": {},
   "outputs": [
    {
     "name": "stdout",
     "output_type": "stream",
     "text": [
      "s3://sagemaker-us-east-1-992620361425/query_results/reviews-feature-store-1632665802/\n"
     ]
    }
   ],
   "source": [
    "output_s3_uri = 's3://{}/query_results/{}/'.format(bucket, feature_store_offline_prefix)\n",
    "print(output_s3_uri)"
   ]
  },
  {
   "cell_type": "markdown",
   "metadata": {},
   "source": [
    "<a name='c2w1-ex-4'></a>\n",
    "### Exercise 4\n",
    "\n",
    "Query the feature store.\n",
    "\n",
    "**Instructions**: Use `feature_store_query.run` function passing the constructed above query string and the location of the output S3 bucket.\n",
    "\n",
    "```python\n",
    "feature_store_query.run(\n",
    "    query_string=..., # query string\n",
    "    output_location=... # location of the output S3 bucket\n",
    ")\n",
    "```"
   ]
  },
  {
   "cell_type": "code",
   "execution_count": 55,
   "metadata": {},
   "outputs": [],
   "source": [
    "feature_store_query.run(\n",
    "    ### BEGIN SOLUTION - DO NOT delete this comment for grading purposes\n",
    "    query_string=query_string, # Replace None\n",
    "    output_location=output_s3_uri # Replace None\n",
    "    ### END SOLUTION - DO NOT delete this comment for grading purposes\n",
    ")\n",
    "\n",
    "feature_store_query.wait()"
   ]
  },
  {
   "cell_type": "code",
   "execution_count": 56,
   "metadata": {},
   "outputs": [
    {
     "data": {
      "text/html": [
       "<div>\n",
       "<style scoped>\n",
       "    .dataframe tbody tr th:only-of-type {\n",
       "        vertical-align: middle;\n",
       "    }\n",
       "\n",
       "    .dataframe tbody tr th {\n",
       "        vertical-align: top;\n",
       "    }\n",
       "\n",
       "    .dataframe thead th {\n",
       "        text-align: right;\n",
       "    }\n",
       "</style>\n",
       "<table border=\"1\" class=\"dataframe\">\n",
       "  <thead>\n",
       "    <tr style=\"text-align: right;\">\n",
       "      <th></th>\n",
       "      <th>date</th>\n",
       "      <th>review_id</th>\n",
       "      <th>sentiment</th>\n",
       "      <th>label_id</th>\n",
       "      <th>input_ids</th>\n",
       "      <th>review_body</th>\n",
       "    </tr>\n",
       "  </thead>\n",
       "  <tbody>\n",
       "    <tr>\n",
       "      <th>0</th>\n",
       "      <td>2021-09-26T14:30:13Z</td>\n",
       "      <td>11590</td>\n",
       "      <td>0</td>\n",
       "      <td>1</td>\n",
       "      <td>[0, 100, 21, 269, 2283, 7, 192, 99, 42, 1415, 101, 11, 621, 4, 77, 939, 23089, 10074, 42, 6399, ...</td>\n",
       "      <td>I was really excited to see what this looked like in person. when i unpacked this shirt i was sh...</td>\n",
       "    </tr>\n",
       "    <tr>\n",
       "      <th>1</th>\n",
       "      <td>2021-09-26T14:30:13Z</td>\n",
       "      <td>8447</td>\n",
       "      <td>1</td>\n",
       "      <td>2</td>\n",
       "      <td>[0, 100, 308, 42, 6013, 11, 130, 430, 8089, 1437, 8, 33, 57, 2498, 106, 187, 5, 1650, 28163, 62,...</td>\n",
       "      <td>I own this tank in three different colors  and have been wearing them since the weather warmed u...</td>\n",
       "    </tr>\n",
       "    <tr>\n",
       "      <th>2</th>\n",
       "      <td>2021-09-26T14:30:13Z</td>\n",
       "      <td>3838</td>\n",
       "      <td>0</td>\n",
       "      <td>1</td>\n",
       "      <td>[0, 28965, 5, 299, 16, 11962, 479, 99, 630, 75, 311, 11, 5, 1345, 32, 5, 16415, 2923, 15, 5, 479...</td>\n",
       "      <td>Overall the top is cute . what doesn't show in the photo are the pleats on the shoulder/neck are...</td>\n",
       "    </tr>\n",
       "    <tr>\n",
       "      <th>3</th>\n",
       "      <td>2021-09-26T14:30:13Z</td>\n",
       "      <td>15989</td>\n",
       "      <td>-1</td>\n",
       "      <td>0</td>\n",
       "      <td>[0, 713, 16576, 16, 2721, 4, 10199, 16, 12058, 19, 1969, 1280, 9, 12224, 8, 4808, 7, 24, 4, 89, ...</td>\n",
       "      <td>This skirt is beautiful. fabric is gorgeous with perfect amount of shine and luxury to it. there...</td>\n",
       "    </tr>\n",
       "    <tr>\n",
       "      <th>4</th>\n",
       "      <td>2021-09-26T14:30:13Z</td>\n",
       "      <td>19252</td>\n",
       "      <td>1</td>\n",
       "      <td>2</td>\n",
       "      <td>[0, 100, 303, 42, 299, 7, 28, 182, 2721, 8, 157, 156, 4, 5, 10199, 16, 15, 5, 13026, 526, 1437, ...</td>\n",
       "      <td>I found this top to be very beautiful and well made. the fabric is on the lighter side  however ...</td>\n",
       "    </tr>\n",
       "  </tbody>\n",
       "</table>\n",
       "</div>"
      ],
      "text/plain": [
       "                   date  review_id  sentiment  label_id  \\\n",
       "0  2021-09-26T14:30:13Z      11590          0         1   \n",
       "1  2021-09-26T14:30:13Z       8447          1         2   \n",
       "2  2021-09-26T14:30:13Z       3838          0         1   \n",
       "3  2021-09-26T14:30:13Z      15989         -1         0   \n",
       "4  2021-09-26T14:30:13Z      19252          1         2   \n",
       "\n",
       "                                                                                             input_ids  \\\n",
       "0  [0, 100, 21, 269, 2283, 7, 192, 99, 42, 1415, 101, 11, 621, 4, 77, 939, 23089, 10074, 42, 6399, ...   \n",
       "1  [0, 100, 308, 42, 6013, 11, 130, 430, 8089, 1437, 8, 33, 57, 2498, 106, 187, 5, 1650, 28163, 62,...   \n",
       "2  [0, 28965, 5, 299, 16, 11962, 479, 99, 630, 75, 311, 11, 5, 1345, 32, 5, 16415, 2923, 15, 5, 479...   \n",
       "3  [0, 713, 16576, 16, 2721, 4, 10199, 16, 12058, 19, 1969, 1280, 9, 12224, 8, 4808, 7, 24, 4, 89, ...   \n",
       "4  [0, 100, 303, 42, 299, 7, 28, 182, 2721, 8, 157, 156, 4, 5, 10199, 16, 15, 5, 13026, 526, 1437, ...   \n",
       "\n",
       "                                                                                           review_body  \n",
       "0  I was really excited to see what this looked like in person. when i unpacked this shirt i was sh...  \n",
       "1  I own this tank in three different colors  and have been wearing them since the weather warmed u...  \n",
       "2  Overall the top is cute . what doesn't show in the photo are the pleats on the shoulder/neck are...  \n",
       "3  This skirt is beautiful. fabric is gorgeous with perfect amount of shine and luxury to it. there...  \n",
       "4  I found this top to be very beautiful and well made. the fabric is on the lighter side  however ...  "
      ]
     },
     "execution_count": 56,
     "metadata": {},
     "output_type": "execute_result"
    }
   ],
   "source": [
    "import pandas as pd\n",
    "pd.set_option(\"max_colwidth\", 100)\n",
    "\n",
    "df_feature_store = feature_store_query.as_dataframe()\n",
    "df_feature_store"
   ]
  },
  {
   "cell_type": "markdown",
   "metadata": {},
   "source": [
    "Review the Feature Store in SageMaker Studio\n",
    "\n",
    "![](images/sm_studio_extensions_featurestore.png)"
   ]
  },
  {
   "cell_type": "markdown",
   "metadata": {},
   "source": [
    "<a name='c2w1-3.2.'></a>\n",
    "### 3.2. Export TSV from Feature Store"
   ]
  },
  {
   "cell_type": "markdown",
   "metadata": {},
   "source": [
    "Save the output as a TSV file:"
   ]
  },
  {
   "cell_type": "code",
   "execution_count": 57,
   "metadata": {},
   "outputs": [],
   "source": [
    "df_feature_store.to_csv('./feature_store_export.tsv',\n",
    "                        sep='\\t',\n",
    "                        index=False,\n",
    "                        header=True)"
   ]
  },
  {
   "cell_type": "code",
   "execution_count": 58,
   "metadata": {},
   "outputs": [
    {
     "name": "stdout",
     "output_type": "stream",
     "text": [
      "date\treview_id\tsentiment\tlabel_id\tinput_ids\treview_body\n",
      "2021-09-26T14:30:13Z\t11590\t0\t1\t[0, 100, 21, 269, 2283, 7, 192, 99, 42, 1415, 101, 11, 621, 4, 77, 939, 23089, 10074, 42, 6399, 939, 21, 6649, 7, 192, 99, 141, 765, 24, 1415, 4, 5, 8089, 32, 182, 593, 7, 99, 47, 192, 804, 53, 5, 6399, 16, 2422, 2233, 219, 4, 939, 33, 10, 2735, 28762, 8, 24, 6254, 376, 7, 874, 127, 13977, 4, 47, 64, 75, 1137, 30, 5, 2170, 53, 42, 6399, 64, 2564, 23, 513, 132, 82, 11, 5, 22523, 4, 77, 939, 1381, 24, 15, 1437, 24, 399, 75, 356, 25, 2233, 219, 53, 202, 10, 269, 7735, 847, 328, 24, 21, 6770, 142, 24, 1326, 98, 11962, 804, 328, 939, 40, 28, 5494, 257, 2, 1, 1, 1, 1, 1, 1, 1, 1, 1]\tI was really excited to see what this looked like in person. when i unpacked this shirt i was shocked to see what how short it looked. the colors are very close to what you see online but the shirt is super boxy. i have a smaller torso and it barely came to below my waist. you can't tell by the picture but this shirt can fit at least 2 people in the width. when i tried it on  it didn't look as boxy but still a really weird cut! it was disappointing because it looks so cute online! i will be retu\n",
      "2021-09-26T14:30:13Z\t8447\t1\t2\t[0, 100, 308, 42, 6013, 11, 130, 430, 8089, 1437, 8, 33, 57, 2498, 106, 187, 5, 1650, 28163, 62, 328, 51, 32, 3793, 1437, 205, 1318, 1437, 8, 10397, 62, 157, 4, 939, 348, 551, 106, 15, 7196, 25, 51, 185, 62, 117, 929, 11, 127, 28441, 1437, 8, 67, 33, 341, 106, 25, 410, 11021, 354, 4104, 15331, 4, 51, 218, 75, 2564, 350, 3229, 15, 1437, 95, 235, 4, 939, 206, 47, 115, 67, 304, 106, 19, 181, 1176, 2583, 17539, 6806, 7, 3581, 11, 4, 2, 1, 1, 1, 1, 1, 1, 1, 1, 1, 1, 1, 1, 1, 1, 1, 1, 1, 1, 1, 1, 1, 1, 1, 1, 1, 1, 1, 1, 1, 1, 1, 1, 1, 1, 1, 1, 1, 1]\tI own this tank in three different colors  and have been wearing them since the weather warmed up! they are soft  good quality  and wash up well. i've taken them on vacation as they take up no room in my suitcase  and also have used them as little camisole shirts. they don't fit too tight on  just right. i think you could also use them with pajama bottoms to sleep in.\n",
      "2021-09-26T14:30:13Z\t3838\t0\t1\t[0, 28965, 5, 299, 16, 11962, 479, 99, 630, 75, 311, 11, 5, 1345, 32, 5, 16415, 2923, 15, 5, 4793, 73, 20020, 443, 4, 5, 13133, 9, 5, 16415, 2923, 817, 47, 356, 101, 47, 33, 10, 1037, 869, 5397, 479, 5, 5397, 443, 630, 75, 4477, 3269, 53, 606, 160, 25, 181, 33650, 23, 110, 5397, 4, 939, 348, 393, 450, 16415, 2923, 2325, 11, 215, 10, 1514, 4, 19750, 41, 3680, 11962, 299, 2, 1, 1, 1, 1, 1, 1, 1, 1, 1, 1, 1, 1, 1, 1, 1, 1, 1, 1, 1, 1, 1, 1, 1, 1, 1, 1, 1, 1, 1, 1, 1, 1, 1, 1, 1, 1, 1, 1, 1, 1, 1, 1, 1, 1, 1, 1, 1, 1, 1, 1, 1]\tOverall the top is cute . what doesn't show in the photo are the pleats on the shoulder/neck area. the placement of the pleats makes you look like you have a football player neck . the neck area doesn't lay flat but comes off as puffy at your neck. i've never seen pleats placed in such a spot. ruined an otherwise cute top\n",
      "2021-09-26T14:30:13Z\t15989\t-1\t0\t[0, 713, 16576, 16, 2721, 4, 10199, 16, 12058, 19, 1969, 1280, 9, 12224, 8, 4808, 7, 24, 4, 89, 16, 10, 22, 5367, 22, 179, 42, 16576, 131, 24, 16, 157, 156, 8, 3905, 5, 809, 2301, 11, 10, 1969, 169, 4, 50, 939, 357, 224, 1437, 24, 222, 2564, 162, 6683, 78, 2724, 728, 9, 2498, 24, 4, 9574, 1437, 24, 13596, 55, 87, 10, 455, 1836, 1437, 8, 3489, 685, 63, 3989, 4, 122, 1437, 5, 16576, 16, 80, 10070, 350, 739, 8, 45, 269, 23541, 5988, 4, 2, 1, 1, 1, 1, 1, 1, 1, 1, 1, 1, 1, 1, 1, 1, 1, 1, 1, 1, 1, 1, 1, 1, 1, 1, 1, 1, 1, 1, 1, 1, 1, 1, 1, 1, 1, 1]\t\"This skirt is beautiful. fabric is gorgeous with perfect amount of shine and luxury to it. there is a \"\"life \"\"in this skirt; it is well made and follows the body lines in a perfect way. or i better say  it did fit me perfectly first ten minutes of wearing it. unfortunately  it stretched more than a full size  and generally lost its shape. now  the skirt is two sizes too large and not really wearable anymore.\"\n"
     ]
    }
   ],
   "source": [
    "!head -n 5 ./feature_store_export.tsv"
   ]
  },
  {
   "cell_type": "markdown",
   "metadata": {},
   "source": [
    "Upload TSV to the S3 bucket:"
   ]
  },
  {
   "cell_type": "code",
   "execution_count": 59,
   "metadata": {},
   "outputs": [
    {
     "name": "stdout",
     "output_type": "stream",
     "text": [
      "upload: ./feature_store_export.tsv to s3://sagemaker-us-east-1-992620361425/feature_store/feature_store_export.tsv\n"
     ]
    }
   ],
   "source": [
    "!aws s3 cp ./feature_store_export.tsv s3://$bucket/feature_store/feature_store_export.tsv"
   ]
  },
  {
   "cell_type": "markdown",
   "metadata": {},
   "source": [
    "Check the file in the S3 bucket:"
   ]
  },
  {
   "cell_type": "code",
   "execution_count": 60,
   "metadata": {},
   "outputs": [
    {
     "name": "stdout",
     "output_type": "stream",
     "text": [
      "2021-09-26 14:54:35       5124 feature_store/feature_store_export.tsv\n"
     ]
    }
   ],
   "source": [
    "!aws s3 ls --recursive s3://$bucket/feature_store/feature_store_export.tsv"
   ]
  },
  {
   "cell_type": "markdown",
   "metadata": {},
   "source": [
    "<a name='c2w1-3.3.'></a>\n",
    "### 3.3. Check that the dataset in the Feature Store is balanced by sentiment\n",
    "\n",
    "Now you can setup an Athena query to check that the stored dataset is balanced by the target class `sentiment`."
   ]
  },
  {
   "cell_type": "markdown",
   "metadata": {},
   "source": [
    "<a name='c2w1-ex-5'></a>\n",
    "### Exercise 5\n",
    "\n",
    "Write an SQL query to count the total number of the reviews per `sentiment` stored in the Feature Group.\n",
    "\n",
    "**Instructions**: Pass the SQL statement of the form \n",
    "\n",
    "```sql\n",
    "SELECT category_column, COUNT(*) AS new_column_name\n",
    "FROM table_name\n",
    "GROUP BY category_column\n",
    "```\n",
    "\n",
    "into the variable `query_string_count_by_sentiment`. Here you would need to use the column `sentiment` and give a name `count_reviews` to the new column with the counts."
   ]
  },
  {
   "cell_type": "code",
   "execution_count": 67,
   "metadata": {},
   "outputs": [],
   "source": [
    "feature_store_query_2 = feature_group.athena_query()\n",
    "\n",
    "# Replace all None\n",
    "### BEGIN SOLUTION - DO NOT delete this comment for grading purposes\n",
    "query_string_count_by_sentiment = \"\"\"\n",
    "SELECT sentiment, COUNT(*) AS count_reviews\n",
    "FROM \"{}\"\n",
    "GROUP BY sentiment\n",
    "\"\"\".format(feature_store_table)\n",
    "### END SOLUTION - DO NOT delete this comment for grading purposes"
   ]
  },
  {
   "cell_type": "markdown",
   "metadata": {},
   "source": [
    "<a name='c2w1-ex-6'></a>\n",
    "### Exercise 6\n",
    "\n",
    "Query the feature store.\n",
    "\n",
    "**Instructions**: Use `run` function of the Feature Store query, passing the new query string `query_string_count_by_sentiment`. The output S3 bucket will remain unchanged. You can follow the example above."
   ]
  },
  {
   "cell_type": "code",
   "execution_count": 68,
   "metadata": {},
   "outputs": [
    {
     "data": {
      "text/html": [
       "<div>\n",
       "<style scoped>\n",
       "    .dataframe tbody tr th:only-of-type {\n",
       "        vertical-align: middle;\n",
       "    }\n",
       "\n",
       "    .dataframe tbody tr th {\n",
       "        vertical-align: top;\n",
       "    }\n",
       "\n",
       "    .dataframe thead th {\n",
       "        text-align: right;\n",
       "    }\n",
       "</style>\n",
       "<table border=\"1\" class=\"dataframe\">\n",
       "  <thead>\n",
       "    <tr style=\"text-align: right;\">\n",
       "      <th></th>\n",
       "      <th>sentiment</th>\n",
       "      <th>count_reviews</th>\n",
       "    </tr>\n",
       "  </thead>\n",
       "  <tbody>\n",
       "    <tr>\n",
       "      <th>0</th>\n",
       "      <td>1</td>\n",
       "      <td>2051</td>\n",
       "    </tr>\n",
       "    <tr>\n",
       "      <th>1</th>\n",
       "      <td>0</td>\n",
       "      <td>2051</td>\n",
       "    </tr>\n",
       "    <tr>\n",
       "      <th>2</th>\n",
       "      <td>-1</td>\n",
       "      <td>2051</td>\n",
       "    </tr>\n",
       "  </tbody>\n",
       "</table>\n",
       "</div>"
      ],
      "text/plain": [
       "   sentiment  count_reviews\n",
       "0          1           2051\n",
       "1          0           2051\n",
       "2         -1           2051"
      ]
     },
     "execution_count": 68,
     "metadata": {},
     "output_type": "execute_result"
    }
   ],
   "source": [
    "feature_store_query_2.run(\n",
    "    ### BEGIN SOLUTION - DO NOT delete this comment for grading purposes\n",
    "    query_string=query_string_count_by_sentiment, # Replace None\n",
    "    output_location=output_s3_uri # Replace None\n",
    "    ### END SOLUTION - DO NOT delete this comment for grading purposes\n",
    ")\n",
    "\n",
    "feature_store_query_2.wait()\n",
    "\n",
    "df_count_by_sentiment = feature_store_query_2.as_dataframe()\n",
    "df_count_by_sentiment"
   ]
  },
  {
   "cell_type": "markdown",
   "metadata": {},
   "source": [
    "<a name='c2w1-ex-7'></a>\n",
    "### Exercise 7\n",
    "\n",
    "Visualize the result of the query in the bar plot, showing the count of the reviews by sentiment value.\n",
    "\n",
    "**Instructions**: Pass the resulting data frame `df_count_by_sentiment` into the `barplot` function of the `seaborn` library.\n",
    "\n",
    "```python\n",
    "sns.barplot(\n",
    "    data=..., \n",
    "    x='...', \n",
    "    y='...',\n",
    "    color=\"blue\"\n",
    ")\n",
    "```"
   ]
  },
  {
   "cell_type": "code",
   "execution_count": 73,
   "metadata": {},
   "outputs": [
    {
     "data": {
      "text/plain": [
       "<matplotlib.axes._subplots.AxesSubplot at 0x7f6a9280f790>"
      ]
     },
     "execution_count": 73,
     "metadata": {},
     "output_type": "execute_result"
    },
    {
     "data": {
      "image/png": "[encoded data removed]",
      "text/plain": [
       "<Figure size 432x288 with 1 Axes>"
      ]
     },
     "metadata": {
      "needs_background": "light"
     },
     "output_type": "display_data"
    }
   ],
   "source": [
    "import seaborn as sns\n",
    "\n",
    "sns.barplot(\n",
    "    ### BEGIN SOLUTION - DO NOT delete this comment for grading purposes\n",
    "    data=df_count_by_sentiment, # Replace None\n",
    "    x='sentiment', # Replace None\n",
    "    y='count_reviews', # Replace None\n",
    "    ### END SOLUTION - DO NOT delete this comment for grading purposes\n",
    "    color=\"blue\"\n",
    ")"
   ]
  },
  {
   "cell_type": "markdown",
   "metadata": {},
   "source": [
    "Upload the notebook and `prepare_data.py` file into S3 bucket for grading purposes.\n",
    "\n",
    "**Note**: you may need to save the file before the upload."
   ]
  },
  {
   "cell_type": "code",
   "execution_count": 71,
   "metadata": {},
   "outputs": [
    {
     "name": "stdout",
     "output_type": "stream",
     "text": [
      "upload: ./C2_W1_Assignment.ipynb to s3://sagemaker-us-east-1-992620361425/C2_W1_Assignment_Learner.ipynb\n",
      "upload: src/prepare_data.py to s3://sagemaker-us-east-1-992620361425/src/C2_W1_prepare_data_Learner.py\n"
     ]
    }
   ],
   "source": [
    "!aws s3 cp ./C2_W1_Assignment.ipynb s3://$bucket/C2_W1_Assignment_Learner.ipynb\n",
    "!aws s3 cp ./src/prepare_data.py s3://$bucket/src/C2_W1_prepare_data_Learner.py"
   ]
  },
  {
   "cell_type": "markdown",
   "metadata": {},
   "source": [
    "Please go to the main lab window and click on `Submit` button (see the `Finish the lab` section of the instructions)."
   ]
  },
  {
   "cell_type": "code",
   "execution_count": null,
   "metadata": {},
   "outputs": [],
   "source": []
  }
 ],
 "metadata": {
  "instance_type": "ml.t3.medium",
  "kernelspec": {
   "display_name": "Python 3 (Data Science)",
   "language": "python",
   "name": "python3__SAGEMAKER_INTERNAL__arn:aws:sagemaker:us-east-1:081325390199:image/datascience-1.0"
  },
  "language_info": {
   "codemirror_mode": {
    "name": "ipython",
    "version": 3
   },
   "file_extension": ".py",
   "mimetype": "text/x-python",
   "name": "python",
   "nbconvert_exporter": "python",
   "pygments_lexer": "ipython3",
   "version": "3.7.10"
  }
 },
 "nbformat": 4,
 "nbformat_minor": 4
}
